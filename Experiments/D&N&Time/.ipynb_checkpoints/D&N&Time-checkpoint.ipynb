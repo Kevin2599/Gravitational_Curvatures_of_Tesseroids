{
 "cells": [
  {
   "cell_type": "markdown",
   "metadata": {
    "collapsed": false
   },
   "source": [
    "# data for the distance-size ratio (D), the number of discretized tesseroids (N) and the CPU time\n",
    "\n",
    "This notebook makes the data for the D and N, D and time."
   ]
  },
  {
   "cell_type": "code",
   "execution_count": null,
   "metadata": {
    "collapsed": true
   },
   "outputs": [],
   "source": [
    "%matplotlib inline\n",
    "from __future__  import division\n",
    "from tempfile import NamedTemporaryFile\n",
    "from StringIO import StringIO\n",
    "import numpy as np\n",
    "from IPython.display import Image\n",
    "from matplotlib.font_manager import FontProperties\n",
    "from fatiando.mesher import Tesseroid\n",
    "from fatiando.constants import MEAN_EARTH_RADIUS\n",
    "from fatiando.vis import myv, mpl\n",
    "import fatiando\n",
    "import matplotlib.pyplot as plt\n",
    "import pandas as pd"
   ]
  },
  {
   "cell_type": "code",
   "execution_count": 3,
   "metadata": {
    "collapsed": false
   },
   "outputs": [
    {
     "name": "stdout",
     "output_type": "stream",
     "text": [
      "Fatiando a Terra version: 0.5\n"
     ]
    }
   ],
   "source": [
    "print('Fatiando a Terra version: {}'.format(fatiando.__version__))"
   ]
  },
  {
   "cell_type": "code",
   "execution_count": 4,
   "metadata": {
    "collapsed": false
   },
   "outputs": [
    {
     "name": "stdout",
     "output_type": "stream",
     "text": [
      "2017"
     ]
    }
   ],
   "source": [
    "!tessgzzz --version"
   ]
  },
  {
   "cell_type": "code",
   "execution_count": 5,
   "metadata": {
    "collapsed": true
   },
   "outputs": [],
   "source": [
    "def discretize(tesseroid, point, ratio):\n",
    "    d2r = np.pi/180\n",
    "    lon, lat, h = point\n",
    "    lon *= d2r\n",
    "    lat *= d2r\n",
    "    sinlat = np.sin(lat)\n",
    "    coslat = np.cos(lat)\n",
    "    r = h + MEAN_EARTH_RADIUS\n",
    "    result = []\n",
    "    stack = [tesseroid]\n",
    "    while stack:\n",
    "        tess = stack.pop()\n",
    "        # compute the distance to the center of the tesseroid\n",
    "        rt = 0.5*(tess.top + tess.bottom) + MEAN_EARTH_RADIUS\n",
    "        latt = d2r*0.5*(tess.s + tess.n)\n",
    "        lont = d2r*0.5*(tess.w + tess.e)\n",
    "        cospsi = sinlat*np.sin(latt) + coslat*np.cos(latt)*np.cos(lon - lont)\n",
    "        distance = np.sqrt(r**2 + rt**2 - 2*r*rt*cospsi)\n",
    "        # compute the sizes of the tesseroid\n",
    "        r2 = tess.top + MEAN_EARTH_RADIUS\n",
    "        dlon = (r2*np.arccos(np.sin(latt)**2 \n",
    "                + (np.cos(latt)**2)*np.cos(d2r*(tess.e - tess.w))))\n",
    "        dlat = (r2*np.arccos(np.sin(d2r*tess.n)*np.sin(d2r*tess.s)\n",
    "                + np.cos(d2r*tess.n)*np.cos(d2r*tess.s)))\n",
    "        dr = tess.top - tess.bottom\n",
    "        nlon, nlat, nr = 1, 1, 1\n",
    "        if distance/dlon < ratio:\n",
    "            nlon = 2\n",
    "        if distance/dlat < ratio:\n",
    "            nlat = 2\n",
    "        if distance/dr < ratio:\n",
    "            nr = 2\n",
    "        if nlon == 1 and nlat == 1 and nr == 1:\n",
    "            result.append(tess)\n",
    "        else:\n",
    "            stack.extend(tess.split(nlon, nlat, nr))\n",
    "    return result"
   ]
  },
  {
   "cell_type": "code",
   "execution_count": 6,
   "metadata": {
    "collapsed": true
   },
   "outputs": [],
   "source": [
    "tesseroid = Tesseroid(-55, -25, -80, -70, 500e3, 0)\n",
    "point = [-40, -70, 800e3]"
   ]
  },
  {
   "cell_type": "code",
   "execution_count": 7,
   "metadata": {
    "collapsed": false
   },
   "outputs": [],
   "source": [
    "import numpy as np\n",
    "D = np.arange(0, 52.5, 2.5)"
   ]
  },
  {
   "cell_type": "code",
   "execution_count": 8,
   "metadata": {
    "collapsed": false
   },
   "outputs": [
    {
     "name": "stdout",
     "output_type": "stream",
     "text": [
      "The number of tesseroids are N: 1\n",
      "The number of tesseroids are N: 74\n",
      "The number of tesseroids are N: 544\n",
      "The number of tesseroids are N: 1832\n",
      "The number of tesseroids are N: 4094\n",
      "The number of tesseroids are N: 8320\n",
      "The number of tesseroids are N: 14100\n",
      "The number of tesseroids are N: 21582\n",
      "The number of tesseroids are N: 32120\n",
      "The number of tesseroids are N: 46644\n",
      "The number of tesseroids are N: 65128\n",
      "The number of tesseroids are N: 86974\n",
      "The number of tesseroids are N: 111004\n",
      "The number of tesseroids are N: 137924\n",
      "The number of tesseroids are N: 170238\n",
      "The number of tesseroids are N: 208636\n",
      "The number of tesseroids are N: 253948\n",
      "The number of tesseroids are N: 307398\n",
      "The number of tesseroids are N: 369544\n",
      "The number of tesseroids are N: 439406\n",
      "The number of tesseroids are N: 516666\n"
     ]
    }
   ],
   "source": [
    "with open(\"a.txt\", \"w\") as f:\n",
    "    for split in D:\n",
    "        model = discretize(tesseroid, point, split)\n",
    "        a=str(len(model))\n",
    "        print \"The number of tesseroids are N:\", a\n",
    "        f.write(a)\n",
    "        f.write('\\n')"
   ]
  },
  {
   "cell_type": "code",
   "execution_count": null,
   "metadata": {
    "collapsed": false,
    "scrolled": false
   },
   "outputs": [],
   "source": [
    "import time\n",
    "with open(\"b.txt\", \"w\") as f:\n",
    "    for split in D:\n",
    "        start = time.clock()\n",
    "        model = discretize(tesseroid, point, split)\n",
    "        b=str(time.clock() - start)\n",
    "        a=str(len(model))\n",
    "        f.write(b)\n",
    "        f.write('\\n')"
   ]
  }
 ],
 "metadata": {
  "anaconda-cloud": {},
  "kernelspec": {
   "display_name": "Python [conda root]",
   "language": "python",
   "name": "conda-root-py"
  },
  "language_info": {
   "codemirror_mode": {
    "name": "ipython",
    "version": 2
   },
   "file_extension": ".py",
   "mimetype": "text/x-python",
   "name": "python",
   "nbconvert_exporter": "python",
   "pygments_lexer": "ipython2",
   "version": "2.7.12"
  }
 },
 "nbformat": 4,
 "nbformat_minor": 1
}
