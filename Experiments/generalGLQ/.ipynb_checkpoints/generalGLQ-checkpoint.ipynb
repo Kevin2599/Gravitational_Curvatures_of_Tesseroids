{
 "cells": [
  {
   "cell_type": "markdown",
   "metadata": {},
   "source": [
    "# Figures for the general GLQ approach\n",
    "\n",
    "This notebook makes the figures for the general GLQ approach."
   ]
  },
  {
   "cell_type": "markdown",
   "metadata": {},
   "source": [
    "## Provenance information\n",
    "\n",
    "Load libraries and print the version information."
   ]
  },
  {
   "cell_type": "code",
   "execution_count": 1,
   "metadata": {
    "collapsed": false
   },
   "outputs": [
    {
     "name": "stderr",
     "output_type": "stream",
     "text": [
      "/Users/deng/anaconda/lib/python2.7/site-packages/fatiando/vis/myv.py:51: UserWarning: This module will be removed in v0.7.\n",
      "  warnings.warn(\"This module will be removed in v0.7.\")\n",
      "/Users/deng/anaconda/lib/python2.7/site-packages/fatiando/vis/mpl.py:76: UserWarning: This module will be removed in v0.6. We recommend the use of matplotlib.pyplot module directly. Some of the fatiando specific functions will remain.\n",
      "  \"specific functions will remain.\")\n"
     ]
    }
   ],
   "source": [
    "%matplotlib inline\n",
    "import matplotlib.pyplot as plt\n",
    "from __future__  import division\n",
    "from tempfile import NamedTemporaryFile\n",
    "from StringIO import StringIO\n",
    "import numpy as np\n",
    "from IPython.display import Image\n",
    "from matplotlib.font_manager import FontProperties\n",
    "from fatiando.mesher import Tesseroid\n",
    "from fatiando.constants import MEAN_EARTH_RADIUS\n",
    "from fatiando.vis import myv, mpl\n",
    "import fatiando"
   ]
  },
  {
   "cell_type": "markdown",
   "metadata": {},
   "source": [
    "We'll make the graphics using the plotting functions in [Fatiando a Terra](http://www.fatiando.org)."
   ]
  },
  {
   "cell_type": "code",
   "execution_count": 2,
   "metadata": {
    "collapsed": false
   },
   "outputs": [
    {
     "name": "stdout",
     "output_type": "stream",
     "text": [
      "Fatiando a Terra version: 0.5\n"
     ]
    }
   ],
   "source": [
    "print('Fatiando a Terra version: {}'.format(fatiando.__version__))"
   ]
  },
  {
   "cell_type": "code",
   "execution_count": 3,
   "metadata": {
    "collapsed": false
   },
   "outputs": [
    {
     "name": "stdout",
     "output_type": "stream",
     "text": [
      "201809"
     ]
    }
   ],
   "source": [
    "!tessgzzz --version"
   ]
  },
  {
   "cell_type": "markdown",
   "metadata": {},
   "source": [
    "We'll set the general style of matplotlib here so that we don't have to tweak this for every plot."
   ]
  },
  {
   "cell_type": "code",
   "execution_count": 4,
   "metadata": {
    "collapsed": false
   },
   "outputs": [],
   "source": [
    "mpl.rc('font', size=8, family='Arial')"
   ]
  },
  {
   "cell_type": "markdown",
   "metadata": {},
   "source": [
    "## Effect of distance and number of GLQ nodes on the computed effects $V_{xyz}$"
   ]
  },
  {
   "cell_type": "markdown",
   "metadata": {},
   "source": [
    "The code below computes the $V_{xyz}$ effect of a tesseroid on a regular grid with varying height and number of GLQ nodes."
   ]
  },
  {
   "cell_type": "markdown",
   "metadata": {},
   "source": [
    "First, we set the dimensions of the tesseroid and write that to a temporary file."
   ]
  },
  {
   "cell_type": "code",
   "execution_count": 5,
   "metadata": {
    "collapsed": false
   },
   "outputs": [],
   "source": [
    "tess_area = (-52, -45, -23, -16)"
   ]
  },
  {
   "cell_type": "code",
   "execution_count": 6,
   "metadata": {
    "collapsed": false
   },
   "outputs": [
    {
     "name": "stdout",
     "output_type": "stream",
     "text": [
      "/var/folders/vp/y3stc73j03ndzq1x99l2bwxw0000gn/T/tmpiD0Mqz\n"
     ]
    }
   ],
   "source": [
    "modelfile = NamedTemporaryFile(delete=False)\n",
    "modelfile.write('{} {} {} {} 0 -20000 2670'.format(*tess_area))\n",
    "modelfile.close()\n",
    "print(modelfile.name)"
   ]
  },
  {
   "cell_type": "markdown",
   "metadata": {},
   "source": [
    "Next, we assemble a pipeline on a string that will use `tessgrd` to create a regular grid and pipe that to `tessgxyz` to calculate the effect."
   ]
  },
  {
   "cell_type": "code",
   "execution_count": 7,
   "metadata": {
    "collapsed": false
   },
   "outputs": [],
   "source": [
    "area = (-70, -30, -35, 0)\n",
    "shape = (100, 100)\n",
    "pipeline = ' | '.join(\n",
    "    ['tessgrd -r{area[0]}/{area[1]}/{area[2]}/{area[3]} -b{shape[0]}/{shape[1]} -z{height}',\n",
    "     'tessgxyz {model} -a -o{order:d}/{order:d}/{order:d}'])"
   ]
  },
  {
   "cell_type": "markdown",
   "metadata": {},
   "source": [
    "Now we can insert the computation parameters on the string and execute it in the shell using IPython's `!` syntax.\n",
    "Then, we capture the stdout in `data` and load the data in numpy arrays using `loadtxt` and some `StringIO` magic."
   ]
  },
  {
   "cell_type": "code",
   "execution_count": 8,
   "metadata": {
    "collapsed": false
   },
   "outputs": [],
   "source": [
    "cmd = pipeline.format(area=area, shape=shape, height=400e03, order=2, model=modelfile.name)\n",
    "data = !$cmd\n",
    "high = np.loadtxt(StringIO('\\n'.join(data)), unpack=True)"
   ]
  },
  {
   "cell_type": "code",
   "execution_count": 9,
   "metadata": {
    "collapsed": false
   },
   "outputs": [],
   "source": [
    "cmd = pipeline.format(area=area, shape=shape, height=150e03, order=2, model=modelfile.name)\n",
    "data = !$cmd\n",
    "low = np.loadtxt(StringIO('\\n'.join(data)), unpack=True)"
   ]
  },
  {
   "cell_type": "code",
   "execution_count": null,
   "metadata": {
    "collapsed": true
   },
   "outputs": [],
   "source": [
    "high_order = 30\n",
    "cmd = pipeline.format(area=area, shape=shape, height=400e03, order=high_order, \n",
    "                      model=modelfile.name)\n",
    "data = !$cmd\n",
    "low_highorder_c = np.loadtxt(StringIO('\\n'.join(data)), unpack=True)"
   ]
  },
  {
   "cell_type": "code",
   "execution_count": null,
   "metadata": {
    "collapsed": false
   },
   "outputs": [],
   "source": [
    "high_order = 30\n",
    "cmd = pipeline.format(area=area, shape=shape, height=150e03, order=high_order, \n",
    "                      model=modelfile.name)\n",
    "data = !$cmd\n",
    "low_highorder = np.loadtxt(StringIO('\\n'.join(data)), unpack=True)"
   ]
  },
  {
   "cell_type": "code",
   "execution_count": null,
   "metadata": {
    "collapsed": false
   },
   "outputs": [],
   "source": [
    "high_order1 = 60\n",
    "cmd = pipeline.format(area=area, shape=shape, height=800e03, order= high_order1,\n",
    "                     model=modelfile.name)\n",
    "data = !$cmd\n",
    "low_highorder1= np.loadtxt(StringIO('\\n'.join(data)), unpack=True)"
   ]
  },
  {
   "cell_type": "markdown",
   "metadata": {},
   "source": [
    "Now all that's left is to make the figure and save it as EPS."
   ]
  },
  {
   "cell_type": "code",
   "execution_count": null,
   "metadata": {
    "collapsed": false,
    "scrolled": false
   },
   "outputs": [],
   "source": [
    "grids = [high, low, low_highorder_c, low_highorder,low_highorder1]\n",
    "orders = [2, 2, high_order, high_order, high_order1]\n",
    "\n",
    "bm = mpl.basemap(area, projection='poly')\n",
    "\n",
    "w, e, s, n = tess_area\n",
    "# To plot the outline of the tesseroid\n",
    "tx, ty = bm([w, e, e, w, w], [n, n, s, s, n])\n",
    "# Scale and make a list of the 2x2 GLQ nodes\n",
    "nodes = np.array([-0.577350269, 0.577350269])\n",
    "nodes_lon = 0.5*(e - w)*nodes + 0.5*(e + w)\n",
    "nodes_lat = 0.5*(n - s)*nodes + 0.5*(n + s)\n",
    "nodex, nodey = bm(*np.meshgrid(nodes_lon, nodes_lat))\n",
    "\n",
    "subfigure = ['(a)', '(b)', '(c)','(d)','(e)']\n",
    "\n",
    "for order, grid, sub in zip(orders, grids, subfigure):\n",
    "    plt.figure(figsize=(5, 4))\n",
    "    ax = plt.subplot(111)\n",
    "    lon, lat, h, g = grid\n",
    "    unit=10**5\n",
    "    g = g*unit\n",
    "    ax.set_title('{:.0f} km $|$ 3D GLQ orders {}'.format(h[0]/1000, order),\n",
    "                 fontsize=12)\n",
    "    ax.text(-0.21, 0.9, sub, fontsize=12, fontdict={'weight': 'bold'},#weight\n",
    "            transform=ax.transAxes)\n",
    "    vmax = np.abs(g).max()\n",
    "    vmin = -vmax\n",
    "    mpl.contourf(lon, lat, g, shape, 20, vmin=vmin, vmax=vmax, basemap=bm, \n",
    "                 #cmap=mpl.cm.Greys)\n",
    "                cmap=mpl.cm.RdBu_r)\n",
    "    mpl.colorbar(orientation='vertical', pad=0., aspect=30).set_label(r'$\\times 10^{-14}\\ m^{-1}s^{-2}$')\n",
    "    bm.plot(tx, ty, '-k', linewidth=2)\n",
    "    if order == 2:\n",
    "        bm.plot(nodex, nodey, 'ok', markersize=4)\n",
    "    bm.drawparallels([-25, -15, -5], labels=[1, 0, 0, 0], linewidth=0.5)\n",
    "    bm.drawmeridians([-60, -50, -40], labels=[0, 0, 0, 1], linewidth=0.5)\n",
    "    mpl.draw_countries(bm, style='-')\n",
    "    mpl.draw_coastlines(bm)\n",
    "    plt.savefig('tesseroid-gxyz-o{}-h{}.eps'.format(order, h[0]/1000))"
   ]
  },
  {
   "cell_type": "markdown",
   "metadata": {},
   "source": [
    "Clean-up the temp file with the model."
   ]
  },
  {
   "cell_type": "code",
   "execution_count": null,
   "metadata": {
    "collapsed": false
   },
   "outputs": [],
   "source": [
    "!rm -f $modelfile.name"
   ]
  }
 ],
 "metadata": {
  "anaconda-cloud": {},
  "kernelspec": {
   "display_name": "Python [default]",
   "language": "python",
   "name": "python2"
  },
  "language_info": {
   "codemirror_mode": {
    "name": "ipython",
    "version": 2
   },
   "file_extension": ".py",
   "mimetype": "text/x-python",
   "name": "python",
   "nbconvert_exporter": "python",
   "pygments_lexer": "ipython2",
   "version": "2.7.12"
  }
 },
 "nbformat": 4,
 "nbformat_minor": 0
}
